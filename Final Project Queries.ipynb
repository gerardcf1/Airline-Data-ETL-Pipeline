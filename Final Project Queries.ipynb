{
 "cells": [
  {
   "cell_type": "code",
   "execution_count": 1,
   "metadata": {},
   "outputs": [],
   "source": [
    "# Importing libraries\n",
    "import logging\n",
    "import numpy as np\n",
    "import pandas as pd\n",
    "import matplotlib.pyplot as plt\n",
    "import pymysql\n",
    "import ssl\n",
    "from sqlalchemy import create_engine\n",
    "from sqlalchemy import text"
   ]
  },
  {
   "cell_type": "markdown",
   "metadata": {},
   "source": [
    "# Extract"
   ]
  },
  {
   "cell_type": "markdown",
   "metadata": {},
   "source": [
    "Retrieving data from Azure"
   ]
  },
  {
   "cell_type": "code",
   "execution_count": 2,
   "metadata": {},
   "outputs": [
    {
     "name": "stdout",
     "output_type": "stream",
     "text": [
      "Connected to airline database on Azure without SSL\n"
     ]
    }
   ],
   "source": [
    "# Connection configuration for MySQL Azure Database\n",
    "host = \"airplane123.mysql.database.azure.com\"\n",
    "port = 3306\n",
    "user = \"student\"\n",
    "password = \"Ads507password\"\n",
    "database = \"airline\"\n",
    "\n",
    "# Configure logging\n",
    "logging.basicConfig(filename='etl_monitoring.log', level=logging.INFO, format='%(asctime)s - %(levelname)s - %(message)s')\n",
    "\n",
    "try:\n",
    "    logging.info(\"Starting ETL Pipeline...\")\n",
    "\n",
    "    # Connect to MySQL\n",
    "    engine = create_engine(\n",
    "        f\"mysql+pymysql://{user}:{password}@{host}:{port}/{database}\"\n",
    "    )\n",
    "    print(\"Connected to airline database on Azure without SSL\")\n",
    "except Exception as e:\n",
    "    print(\"Connection failed:\", e)\n",
    "    logging.error(f\"Error in data extraction: {e}\")"
   ]
  },
  {
   "cell_type": "markdown",
   "metadata": {},
   "source": [
    "Loading data using Pandas library into a Dataframe for data manipulation"
   ]
  },
  {
   "cell_type": "code",
   "execution_count": 3,
   "metadata": {},
   "outputs": [
    {
     "name": "stdout",
     "output_type": "stream",
     "text": [
      "  Tables_in_airline\n",
      "0           airport\n",
      "1           flights\n",
      "2        passengers\n"
     ]
    }
   ],
   "source": [
    "# Extract Data\n",
    "logging.info(\"Extracting data from MySQL...\")\n",
    "\n",
    "# Query to get the data from the database\n",
    "df = pd.read_sql(\"SHOW TABLES\", engine)\n",
    "logging.info(f\"Extracted {len(df)} rows successfully.\")\n",
    "print(df)\n",
    "\n",
    "# Loading each table into a dataframe\n",
    "df_passengers = pd.read_sql(\"SELECT * FROM passengers\", engine)\n",
    "df_flights = pd.read_sql(\"SELECT * FROM flights\", engine)\n",
    "df_airport = pd.read_sql(\"SELECT * FROM airport\", engine)"
   ]
  },
  {
   "cell_type": "markdown",
   "metadata": {},
   "source": [
    "Showing the first 5 rows of each table"
   ]
  },
  {
   "cell_type": "code",
   "execution_count": 4,
   "metadata": {},
   "outputs": [
    {
     "data": {
      "text/html": [
       "<div>\n",
       "<style scoped>\n",
       "    .dataframe tbody tr th:only-of-type {\n",
       "        vertical-align: middle;\n",
       "    }\n",
       "\n",
       "    .dataframe tbody tr th {\n",
       "        vertical-align: top;\n",
       "    }\n",
       "\n",
       "    .dataframe thead th {\n",
       "        text-align: right;\n",
       "    }\n",
       "</style>\n",
       "<table border=\"1\" class=\"dataframe\">\n",
       "  <thead>\n",
       "    <tr style=\"text-align: right;\">\n",
       "      <th></th>\n",
       "      <th>Passenger_id</th>\n",
       "      <th>First_name</th>\n",
       "      <th>Last_name</th>\n",
       "      <th>Gender</th>\n",
       "      <th>Age</th>\n",
       "      <th>Nationality</th>\n",
       "    </tr>\n",
       "  </thead>\n",
       "  <tbody>\n",
       "    <tr>\n",
       "      <th>0</th>\n",
       "      <td>1</td>\n",
       "      <td>Edithe</td>\n",
       "      <td>Leggis</td>\n",
       "      <td>Female</td>\n",
       "      <td>62</td>\n",
       "      <td>Japan</td>\n",
       "    </tr>\n",
       "    <tr>\n",
       "      <th>1</th>\n",
       "      <td>2</td>\n",
       "      <td>Elwood</td>\n",
       "      <td>Catt</td>\n",
       "      <td>Male</td>\n",
       "      <td>62</td>\n",
       "      <td>Nicaragua</td>\n",
       "    </tr>\n",
       "    <tr>\n",
       "      <th>2</th>\n",
       "      <td>3</td>\n",
       "      <td>Darby</td>\n",
       "      <td>Felgate</td>\n",
       "      <td>Male</td>\n",
       "      <td>67</td>\n",
       "      <td>Russia</td>\n",
       "    </tr>\n",
       "    <tr>\n",
       "      <th>3</th>\n",
       "      <td>4</td>\n",
       "      <td>Dominica</td>\n",
       "      <td>Pyle</td>\n",
       "      <td>Female</td>\n",
       "      <td>71</td>\n",
       "      <td>China</td>\n",
       "    </tr>\n",
       "    <tr>\n",
       "      <th>4</th>\n",
       "      <td>5</td>\n",
       "      <td>Bay</td>\n",
       "      <td>Pencost</td>\n",
       "      <td>Male</td>\n",
       "      <td>21</td>\n",
       "      <td>China</td>\n",
       "    </tr>\n",
       "  </tbody>\n",
       "</table>\n",
       "</div>"
      ],
      "text/plain": [
       "   Passenger_id First_name Last_name  Gender  Age Nationality\n",
       "0             1     Edithe    Leggis  Female   62       Japan\n",
       "1             2     Elwood      Catt    Male   62   Nicaragua\n",
       "2             3      Darby   Felgate    Male   67      Russia\n",
       "3             4   Dominica      Pyle  Female   71       China\n",
       "4             5        Bay   Pencost    Male   21       China"
      ]
     },
     "execution_count": 4,
     "metadata": {},
     "output_type": "execute_result"
    }
   ],
   "source": [
    "df_passengers.head(5)"
   ]
  },
  {
   "cell_type": "code",
   "execution_count": 5,
   "metadata": {},
   "outputs": [
    {
     "data": {
      "text/html": [
       "<div>\n",
       "<style scoped>\n",
       "    .dataframe tbody tr th:only-of-type {\n",
       "        vertical-align: middle;\n",
       "    }\n",
       "\n",
       "    .dataframe tbody tr th {\n",
       "        vertical-align: top;\n",
       "    }\n",
       "\n",
       "    .dataframe thead th {\n",
       "        text-align: right;\n",
       "    }\n",
       "</style>\n",
       "<table border=\"1\" class=\"dataframe\">\n",
       "  <thead>\n",
       "    <tr style=\"text-align: right;\">\n",
       "      <th></th>\n",
       "      <th>Airport_id</th>\n",
       "      <th>Airport_name</th>\n",
       "      <th>Airport_country_code</th>\n",
       "      <th>Country_name</th>\n",
       "      <th>Airport_continent</th>\n",
       "      <th>Continents</th>\n",
       "    </tr>\n",
       "  </thead>\n",
       "  <tbody>\n",
       "    <tr>\n",
       "      <th>0</th>\n",
       "      <td>1</td>\n",
       "      <td>Coldfoot Airport</td>\n",
       "      <td>US</td>\n",
       "      <td>United States</td>\n",
       "      <td>NAM</td>\n",
       "      <td>North America</td>\n",
       "    </tr>\n",
       "    <tr>\n",
       "      <th>1</th>\n",
       "      <td>2</td>\n",
       "      <td>Kugluktuk Airport</td>\n",
       "      <td>CA</td>\n",
       "      <td>Canada</td>\n",
       "      <td>NAM</td>\n",
       "      <td>North America</td>\n",
       "    </tr>\n",
       "    <tr>\n",
       "      <th>2</th>\n",
       "      <td>3</td>\n",
       "      <td>Grenoble-IsÃ¨re Airport</td>\n",
       "      <td>FR</td>\n",
       "      <td>France</td>\n",
       "      <td>EU</td>\n",
       "      <td>Europe</td>\n",
       "    </tr>\n",
       "    <tr>\n",
       "      <th>3</th>\n",
       "      <td>4</td>\n",
       "      <td>Ottawa / Gatineau Airport</td>\n",
       "      <td>CA</td>\n",
       "      <td>Canada</td>\n",
       "      <td>NAM</td>\n",
       "      <td>North America</td>\n",
       "    </tr>\n",
       "    <tr>\n",
       "      <th>4</th>\n",
       "      <td>5</td>\n",
       "      <td>Gillespie Field</td>\n",
       "      <td>US</td>\n",
       "      <td>United States</td>\n",
       "      <td>NAM</td>\n",
       "      <td>North America</td>\n",
       "    </tr>\n",
       "  </tbody>\n",
       "</table>\n",
       "</div>"
      ],
      "text/plain": [
       "   Airport_id               Airport_name Airport_country_code   Country_name  \\\n",
       "0           1           Coldfoot Airport                   US  United States   \n",
       "1           2          Kugluktuk Airport                   CA         Canada   \n",
       "2           3    Grenoble-IsÃ¨re Airport                   FR         France   \n",
       "3           4  Ottawa / Gatineau Airport                   CA         Canada   \n",
       "4           5            Gillespie Field                   US  United States   \n",
       "\n",
       "  Airport_continent     Continents  \n",
       "0               NAM  North America  \n",
       "1               NAM  North America  \n",
       "2                EU         Europe  \n",
       "3               NAM  North America  \n",
       "4               NAM  North America  "
      ]
     },
     "execution_count": 5,
     "metadata": {},
     "output_type": "execute_result"
    }
   ],
   "source": [
    "df_airport.head(5)"
   ]
  },
  {
   "cell_type": "code",
   "execution_count": 6,
   "metadata": {},
   "outputs": [
    {
     "data": {
      "text/html": [
       "<div>\n",
       "<style scoped>\n",
       "    .dataframe tbody tr th:only-of-type {\n",
       "        vertical-align: middle;\n",
       "    }\n",
       "\n",
       "    .dataframe tbody tr th {\n",
       "        vertical-align: top;\n",
       "    }\n",
       "\n",
       "    .dataframe thead th {\n",
       "        text-align: right;\n",
       "    }\n",
       "</style>\n",
       "<table border=\"1\" class=\"dataframe\">\n",
       "  <thead>\n",
       "    <tr style=\"text-align: right;\">\n",
       "      <th></th>\n",
       "      <th>Flight_id</th>\n",
       "      <th>Passenger_id</th>\n",
       "      <th>Airport_id</th>\n",
       "      <th>Departure_date</th>\n",
       "      <th>Arrival_airport</th>\n",
       "      <th>Pilot_name</th>\n",
       "      <th>Flight_status</th>\n",
       "    </tr>\n",
       "  </thead>\n",
       "  <tbody>\n",
       "    <tr>\n",
       "      <th>0</th>\n",
       "      <td>1</td>\n",
       "      <td>1</td>\n",
       "      <td>1</td>\n",
       "      <td>2022-06-28</td>\n",
       "      <td>CXF</td>\n",
       "      <td>Edithe Leggis</td>\n",
       "      <td>On Time</td>\n",
       "    </tr>\n",
       "    <tr>\n",
       "      <th>1</th>\n",
       "      <td>2</td>\n",
       "      <td>2</td>\n",
       "      <td>2</td>\n",
       "      <td>2022-12-26</td>\n",
       "      <td>YCO</td>\n",
       "      <td>Elwood Catt</td>\n",
       "      <td>On Time</td>\n",
       "    </tr>\n",
       "    <tr>\n",
       "      <th>2</th>\n",
       "      <td>3</td>\n",
       "      <td>3</td>\n",
       "      <td>3</td>\n",
       "      <td>2022-01-18</td>\n",
       "      <td>GNB</td>\n",
       "      <td>Darby Felgate</td>\n",
       "      <td>On Time</td>\n",
       "    </tr>\n",
       "    <tr>\n",
       "      <th>3</th>\n",
       "      <td>4</td>\n",
       "      <td>4</td>\n",
       "      <td>4</td>\n",
       "      <td>2022-09-16</td>\n",
       "      <td>YND</td>\n",
       "      <td>Dominica Pyle</td>\n",
       "      <td>Delayed</td>\n",
       "    </tr>\n",
       "    <tr>\n",
       "      <th>4</th>\n",
       "      <td>5</td>\n",
       "      <td>5</td>\n",
       "      <td>5</td>\n",
       "      <td>2022-02-25</td>\n",
       "      <td>SEE</td>\n",
       "      <td>Bay Pencost</td>\n",
       "      <td>On Time</td>\n",
       "    </tr>\n",
       "  </tbody>\n",
       "</table>\n",
       "</div>"
      ],
      "text/plain": [
       "   Flight_id  Passenger_id  Airport_id Departure_date Arrival_airport  \\\n",
       "0          1             1           1     2022-06-28             CXF   \n",
       "1          2             2           2     2022-12-26             YCO   \n",
       "2          3             3           3     2022-01-18             GNB   \n",
       "3          4             4           4     2022-09-16             YND   \n",
       "4          5             5           5     2022-02-25             SEE   \n",
       "\n",
       "      Pilot_name Flight_status  \n",
       "0  Edithe Leggis       On Time  \n",
       "1    Elwood Catt       On Time  \n",
       "2  Darby Felgate       On Time  \n",
       "3  Dominica Pyle       Delayed  \n",
       "4    Bay Pencost       On Time  "
      ]
     },
     "execution_count": 6,
     "metadata": {},
     "output_type": "execute_result"
    }
   ],
   "source": [
    "df_flights.head(5)"
   ]
  },
  {
   "cell_type": "markdown",
   "metadata": {},
   "source": [
    "# Transform"
   ]
  },
  {
   "cell_type": "markdown",
   "metadata": {},
   "source": [
    "#### Cleaning and modifying the data for further analysis"
   ]
  },
  {
   "cell_type": "code",
   "execution_count": 7,
   "metadata": {},
   "outputs": [
    {
     "name": "stdout",
     "output_type": "stream",
     "text": [
      "Passenger_id    0\n",
      "First_name      0\n",
      "Last_name       0\n",
      "Gender          0\n",
      "Age             0\n",
      "Nationality     0\n",
      "dtype: int64\n",
      "Flight_id          0\n",
      "Passenger_id       0\n",
      "Airport_id         0\n",
      "Departure_date     0\n",
      "Arrival_airport    0\n",
      "Pilot_name         0\n",
      "Flight_status      0\n",
      "dtype: int64\n",
      "Airport_id              0\n",
      "Airport_name            0\n",
      "Airport_country_code    0\n",
      "Country_name            0\n",
      "Airport_continent       0\n",
      "Continents              0\n",
      "dtype: int64\n"
     ]
    }
   ],
   "source": [
    "try:\n",
    "    # Check for missing values\n",
    "    logging.info(\"Transforming data...\")\n",
    "    \n",
    "    # Missing values in each table\n",
    "    passengers_missing = df_passengers.isnull().sum()\n",
    "    flights_missing = df_flights.isnull().sum()\n",
    "    airport_missing = df_airport.isnull().sum()\n",
    "\n",
    "    logging.info(f\"Missing values before cleaning: {passengers_missing}, {flights_missing}, {airport_missing}\")\n",
    "\n",
    "    print(passengers_missing)\n",
    "    print(flights_missing)\n",
    "    print(airport_missing)\n",
    "\n",
    "    logging.info(\"Missing values checked successfully.\")\n",
    "\n",
    "except Exception as e:\n",
    "    logging.error(f\"Error in data transformation: {e}\")\n"
   ]
  },
  {
   "cell_type": "markdown",
   "metadata": {},
   "source": [
    "The dataframe does not contain any null values"
   ]
  },
  {
   "cell_type": "markdown",
   "metadata": {},
   "source": [
    "#### Data types"
   ]
  },
  {
   "cell_type": "code",
   "execution_count": 8,
   "metadata": {},
   "outputs": [
    {
     "name": "stdout",
     "output_type": "stream",
     "text": [
      "Passengers table:\n",
      "\n",
      "<class 'pandas.core.frame.DataFrame'>\n",
      "RangeIndex: 98612 entries, 0 to 98611\n",
      "Data columns (total 6 columns):\n",
      " #   Column        Non-Null Count  Dtype \n",
      "---  ------        --------------  ----- \n",
      " 0   Passenger_id  98612 non-null  int64 \n",
      " 1   First_name    98612 non-null  object\n",
      " 2   Last_name     98612 non-null  object\n",
      " 3   Gender        98612 non-null  object\n",
      " 4   Age           98612 non-null  int64 \n",
      " 5   Nationality   98612 non-null  object\n",
      "dtypes: int64(2), object(4)\n",
      "memory usage: 4.5+ MB\n",
      "\n",
      "\n",
      "Airport table:\n",
      "\n",
      "<class 'pandas.core.frame.DataFrame'>\n",
      "RangeIndex: 98612 entries, 0 to 98611\n",
      "Data columns (total 6 columns):\n",
      " #   Column                Non-Null Count  Dtype \n",
      "---  ------                --------------  ----- \n",
      " 0   Airport_id            98612 non-null  int64 \n",
      " 1   Airport_name          98612 non-null  object\n",
      " 2   Airport_country_code  98612 non-null  object\n",
      " 3   Country_name          98612 non-null  object\n",
      " 4   Airport_continent     98612 non-null  object\n",
      " 5   Continents            98612 non-null  object\n",
      "dtypes: int64(1), object(5)\n",
      "memory usage: 4.5+ MB\n",
      "\n",
      "\n",
      "Flights table:\n",
      "\n",
      "<class 'pandas.core.frame.DataFrame'>\n",
      "RangeIndex: 98612 entries, 0 to 98611\n",
      "Data columns (total 7 columns):\n",
      " #   Column           Non-Null Count  Dtype \n",
      "---  ------           --------------  ----- \n",
      " 0   Flight_id        98612 non-null  int64 \n",
      " 1   Passenger_id     98612 non-null  int64 \n",
      " 2   Airport_id       98612 non-null  int64 \n",
      " 3   Departure_date   98612 non-null  object\n",
      " 4   Arrival_airport  98612 non-null  object\n",
      " 5   Pilot_name       98612 non-null  object\n",
      " 6   Flight_status    98612 non-null  object\n",
      "dtypes: int64(3), object(4)\n",
      "memory usage: 5.3+ MB\n"
     ]
    }
   ],
   "source": [
    "# Checking data types\n",
    "print(\"Passengers table:\\n\")\n",
    "df_passengers.info()\n",
    "print(\"\\n\")\n",
    "print(\"Airport table:\\n\")\n",
    "df_airport.info()\n",
    "print(\"\\n\")\n",
    "print(\"Flights table:\\n\")\n",
    "df_flights.info()"
   ]
  },
  {
   "cell_type": "code",
   "execution_count": 9,
   "metadata": {},
   "outputs": [],
   "source": [
    "# Fixing data types in Passengers\n",
    "df_passengers['Gender'] = df_passengers['Gender'].astype('category')\n",
    "df_passengers['Nationality'] = df_passengers['Nationality'].astype('category')\n",
    "\n",
    "# Fixing data types in Airport\n",
    "df_airport['Airport_name'] = df_airport['Airport_name'].astype('category')\n",
    "df_airport['Airport_country_code'] = df_airport['Airport_country_code'].astype('category')\n",
    "df_airport['Country_name'] = df_airport['Country_name'].astype('category')\n",
    "df_airport['Airport_continent'] = df_airport['Airport_continent'].astype('category')\n",
    "df_airport['Continents'] = df_airport['Continents'].astype('category')\n",
    "\n",
    "# Fixing data types in Flights\n",
    "df_flights['Departure_date'] = pd.to_datetime(df_flights['Departure_date'])\n",
    "df_flights['Arrival_airport'] = df_flights['Arrival_airport'].astype('category')\n",
    "df_flights['Flight_status'] = df_flights['Flight_status'].astype('category')"
   ]
  },
  {
   "cell_type": "code",
   "execution_count": 10,
   "metadata": {},
   "outputs": [
    {
     "name": "stdout",
     "output_type": "stream",
     "text": [
      "Passengers table:\n",
      "\n",
      "<class 'pandas.core.frame.DataFrame'>\n",
      "RangeIndex: 98612 entries, 0 to 98611\n",
      "Data columns (total 6 columns):\n",
      " #   Column        Non-Null Count  Dtype   \n",
      "---  ------        --------------  -----   \n",
      " 0   Passenger_id  98612 non-null  int64   \n",
      " 1   First_name    98612 non-null  object  \n",
      " 2   Last_name     98612 non-null  object  \n",
      " 3   Gender        98612 non-null  category\n",
      " 4   Age           98612 non-null  int64   \n",
      " 5   Nationality   98612 non-null  category\n",
      "dtypes: category(2), int64(2), object(2)\n",
      "memory usage: 3.3+ MB\n",
      "\n",
      "\n",
      "Airport table:\n",
      "\n",
      "<class 'pandas.core.frame.DataFrame'>\n",
      "RangeIndex: 98612 entries, 0 to 98611\n",
      "Data columns (total 6 columns):\n",
      " #   Column                Non-Null Count  Dtype   \n",
      "---  ------                --------------  -----   \n",
      " 0   Airport_id            98612 non-null  int64   \n",
      " 1   Airport_name          98612 non-null  category\n",
      " 2   Airport_country_code  98612 non-null  category\n",
      " 3   Country_name          98612 non-null  category\n",
      " 4   Airport_continent     98612 non-null  category\n",
      " 5   Continents            98612 non-null  category\n",
      "dtypes: category(5), int64(1)\n",
      "memory usage: 1.8 MB\n",
      "\n",
      "\n",
      "Flights table:\n",
      "\n",
      "<class 'pandas.core.frame.DataFrame'>\n",
      "RangeIndex: 98612 entries, 0 to 98611\n",
      "Data columns (total 7 columns):\n",
      " #   Column           Non-Null Count  Dtype         \n",
      "---  ------           --------------  -----         \n",
      " 0   Flight_id        98612 non-null  int64         \n",
      " 1   Passenger_id     98612 non-null  int64         \n",
      " 2   Airport_id       98612 non-null  int64         \n",
      " 3   Departure_date   98612 non-null  datetime64[ns]\n",
      " 4   Arrival_airport  98612 non-null  category      \n",
      " 5   Pilot_name       98612 non-null  object        \n",
      " 6   Flight_status    98612 non-null  category      \n",
      "dtypes: category(2), datetime64[ns](1), int64(3), object(1)\n",
      "memory usage: 4.4+ MB\n"
     ]
    }
   ],
   "source": [
    "# Checking data types\n",
    "print(\"Passengers table:\\n\")\n",
    "df_passengers.info()\n",
    "print(\"\\n\")\n",
    "print(\"Airport table:\\n\")\n",
    "df_airport.info()\n",
    "print(\"\\n\")\n",
    "print(\"Flights table:\\n\")\n",
    "df_flights.info()"
   ]
  },
  {
   "cell_type": "markdown",
   "metadata": {},
   "source": [
    "We have efectively changed those 'object' to 'category' and 'date' types"
   ]
  },
  {
   "cell_type": "markdown",
   "metadata": {},
   "source": [
    "#### Data Standardization"
   ]
  },
  {
   "cell_type": "code",
   "execution_count": 11,
   "metadata": {},
   "outputs": [],
   "source": [
    "# Standardizing categorical values to lowecase for consistency\n",
    "df_passengers[['Gender', 'Nationality']] = df_passengers[['Gender', 'Nationality']].apply(lambda x: x.str.lower())\n",
    "\n",
    "df_airport[['Airport_name', 'Airport_country_code', 'Country_name', 'Airport_continent', 'Continents']] = df_airport[['Airport_name', 'Airport_country_code', 'Country_name', 'Airport_continent', 'Continents']].apply(lambda x: x.str.lower())\n",
    "\n",
    "df_flights[['Arrival_airport', 'Flight_status']] = df_flights[['Arrival_airport', 'Flight_status']].apply(lambda x: x.str.lower())"
   ]
  },
  {
   "cell_type": "markdown",
   "metadata": {},
   "source": [
    "#### Date Formatting"
   ]
  },
  {
   "cell_type": "code",
   "execution_count": 12,
   "metadata": {},
   "outputs": [
    {
     "data": {
      "text/html": [
       "<div>\n",
       "<style scoped>\n",
       "    .dataframe tbody tr th:only-of-type {\n",
       "        vertical-align: middle;\n",
       "    }\n",
       "\n",
       "    .dataframe tbody tr th {\n",
       "        vertical-align: top;\n",
       "    }\n",
       "\n",
       "    .dataframe thead th {\n",
       "        text-align: right;\n",
       "    }\n",
       "</style>\n",
       "<table border=\"1\" class=\"dataframe\">\n",
       "  <thead>\n",
       "    <tr style=\"text-align: right;\">\n",
       "      <th></th>\n",
       "      <th>Flight_id</th>\n",
       "      <th>Passenger_id</th>\n",
       "      <th>Airport_id</th>\n",
       "      <th>Departure_date</th>\n",
       "      <th>Arrival_airport</th>\n",
       "      <th>Pilot_name</th>\n",
       "      <th>Flight_status</th>\n",
       "      <th>Departure_date_year</th>\n",
       "      <th>Departure_date_month</th>\n",
       "      <th>Departure_date_day</th>\n",
       "    </tr>\n",
       "  </thead>\n",
       "  <tbody>\n",
       "    <tr>\n",
       "      <th>0</th>\n",
       "      <td>1</td>\n",
       "      <td>1</td>\n",
       "      <td>1</td>\n",
       "      <td>2022-06-28</td>\n",
       "      <td>cxf</td>\n",
       "      <td>Edithe Leggis</td>\n",
       "      <td>on time</td>\n",
       "      <td>2022</td>\n",
       "      <td>6</td>\n",
       "      <td>28</td>\n",
       "    </tr>\n",
       "  </tbody>\n",
       "</table>\n",
       "</div>"
      ],
      "text/plain": [
       "   Flight_id  Passenger_id  Airport_id Departure_date Arrival_airport  \\\n",
       "0          1             1           1     2022-06-28             cxf   \n",
       "\n",
       "      Pilot_name Flight_status  Departure_date_year  Departure_date_month  \\\n",
       "0  Edithe Leggis       on time                 2022                     6   \n",
       "\n",
       "   Departure_date_day  \n",
       "0                  28  "
      ]
     },
     "execution_count": 12,
     "metadata": {},
     "output_type": "execute_result"
    }
   ],
   "source": [
    "# To ensure dates are consistent\n",
    "df_flights['Departure_date_year'] = df_flights['Departure_date'].dt.year\n",
    "df_flights['Departure_date_month'] = df_flights['Departure_date'].dt.month\n",
    "df_flights['Departure_date_day'] = df_flights['Departure_date'].dt.day\n",
    "df_flights.head(1)"
   ]
  },
  {
   "cell_type": "markdown",
   "metadata": {},
   "source": [
    "#### Feature Engineering"
   ]
  },
  {
   "cell_type": "markdown",
   "metadata": {},
   "source": [
    "Extracting Day of week from Flights table"
   ]
  },
  {
   "cell_type": "code",
   "execution_count": 13,
   "metadata": {},
   "outputs": [
    {
     "data": {
      "text/html": [
       "<div>\n",
       "<style scoped>\n",
       "    .dataframe tbody tr th:only-of-type {\n",
       "        vertical-align: middle;\n",
       "    }\n",
       "\n",
       "    .dataframe tbody tr th {\n",
       "        vertical-align: top;\n",
       "    }\n",
       "\n",
       "    .dataframe thead th {\n",
       "        text-align: right;\n",
       "    }\n",
       "</style>\n",
       "<table border=\"1\" class=\"dataframe\">\n",
       "  <thead>\n",
       "    <tr style=\"text-align: right;\">\n",
       "      <th></th>\n",
       "      <th>Flight_id</th>\n",
       "      <th>Passenger_id</th>\n",
       "      <th>Airport_id</th>\n",
       "      <th>Departure_date</th>\n",
       "      <th>Arrival_airport</th>\n",
       "      <th>Pilot_name</th>\n",
       "      <th>Flight_status</th>\n",
       "      <th>Departure_date_year</th>\n",
       "      <th>Departure_date_month</th>\n",
       "      <th>Departure_date_day</th>\n",
       "      <th>Departure_date_name</th>\n",
       "    </tr>\n",
       "  </thead>\n",
       "  <tbody>\n",
       "    <tr>\n",
       "      <th>0</th>\n",
       "      <td>1</td>\n",
       "      <td>1</td>\n",
       "      <td>1</td>\n",
       "      <td>2022-06-28</td>\n",
       "      <td>cxf</td>\n",
       "      <td>Edithe Leggis</td>\n",
       "      <td>on time</td>\n",
       "      <td>2022</td>\n",
       "      <td>6</td>\n",
       "      <td>28</td>\n",
       "      <td>Tuesday</td>\n",
       "    </tr>\n",
       "  </tbody>\n",
       "</table>\n",
       "</div>"
      ],
      "text/plain": [
       "   Flight_id  Passenger_id  Airport_id Departure_date Arrival_airport  \\\n",
       "0          1             1           1     2022-06-28             cxf   \n",
       "\n",
       "      Pilot_name Flight_status  Departure_date_year  Departure_date_month  \\\n",
       "0  Edithe Leggis       on time                 2022                     6   \n",
       "\n",
       "   Departure_date_day Departure_date_name  \n",
       "0                  28             Tuesday  "
      ]
     },
     "execution_count": 13,
     "metadata": {},
     "output_type": "execute_result"
    }
   ],
   "source": [
    "df_flights['Departure_date_name'] = df_flights['Departure_date'].dt.day_name()\n",
    "df_flights.head(1)"
   ]
  },
  {
   "cell_type": "markdown",
   "metadata": {},
   "source": [
    "Encoding Gender, and Age from Passengers table"
   ]
  },
  {
   "cell_type": "code",
   "execution_count": 14,
   "metadata": {},
   "outputs": [
    {
     "data": {
      "text/html": [
       "<div>\n",
       "<style scoped>\n",
       "    .dataframe tbody tr th:only-of-type {\n",
       "        vertical-align: middle;\n",
       "    }\n",
       "\n",
       "    .dataframe tbody tr th {\n",
       "        vertical-align: top;\n",
       "    }\n",
       "\n",
       "    .dataframe thead th {\n",
       "        text-align: right;\n",
       "    }\n",
       "</style>\n",
       "<table border=\"1\" class=\"dataframe\">\n",
       "  <thead>\n",
       "    <tr style=\"text-align: right;\">\n",
       "      <th></th>\n",
       "      <th>Passenger_id</th>\n",
       "      <th>First_name</th>\n",
       "      <th>Last_name</th>\n",
       "      <th>Gender</th>\n",
       "      <th>Age</th>\n",
       "      <th>Nationality</th>\n",
       "      <th>Gender_encoded</th>\n",
       "      <th>Age_group</th>\n",
       "    </tr>\n",
       "  </thead>\n",
       "  <tbody>\n",
       "    <tr>\n",
       "      <th>0</th>\n",
       "      <td>1</td>\n",
       "      <td>Edithe</td>\n",
       "      <td>Leggis</td>\n",
       "      <td>female</td>\n",
       "      <td>62</td>\n",
       "      <td>japan</td>\n",
       "      <td>1</td>\n",
       "      <td>Senior</td>\n",
       "    </tr>\n",
       "  </tbody>\n",
       "</table>\n",
       "</div>"
      ],
      "text/plain": [
       "   Passenger_id First_name Last_name  Gender  Age Nationality  Gender_encoded  \\\n",
       "0             1     Edithe    Leggis  female   62       japan               1   \n",
       "\n",
       "  Age_group  \n",
       "0    Senior  "
      ]
     },
     "execution_count": 14,
     "metadata": {},
     "output_type": "execute_result"
    }
   ],
   "source": [
    "# Gender Encoding\n",
    "df_passengers['Gender_encoded'] = df_passengers['Gender'].map({'male': 0, 'female': 1})\n",
    "\n",
    "# Age Groups\n",
    "df_passengers['Age_group'] = pd.cut(df_passengers['Age'], bins=[0, 12, 18, 60, 100], labels=['Child', 'Teen', 'Adult', 'Senior'])\n",
    "\n",
    "df_passengers.head(1)"
   ]
  },
  {
   "cell_type": "markdown",
   "metadata": {},
   "source": [
    "# Load"
   ]
  },
  {
   "cell_type": "markdown",
   "metadata": {},
   "source": [
    "#### Store the transformed data into MySQL database"
   ]
  },
  {
   "cell_type": "code",
   "execution_count": 15,
   "metadata": {},
   "outputs": [
    {
     "name": "stdout",
     "output_type": "stream",
     "text": [
      "Connected to airline database on Azure with SSL\n"
     ]
    }
   ],
   "source": [
    "# Create the connection to the database\n",
    "host = \"airplane123.mysql.database.azure.com\"\n",
    "port = 3306\n",
    "user = \"student\"\n",
    "password = \"Ads507password\"\n",
    "database = \"airline-cleaned\" \n",
    "\n",
    "try:\n",
    "    logging.info(\"Loading transformed data into MySQL...\")\n",
    "\n",
    "    engine2 = create_engine(\n",
    "        f\"mysql+pymysql://{user}:{password}@{host}:{port}/{database}\"\n",
    "    )\n",
    "\n",
    "    logging.info(\"Data successfully loaded into MySQL.\")\n",
    "\n",
    "    print(\"Connected to airline database on Azure with SSL\")\n",
    "    \n",
    "except Exception as e:\n",
    "    print(\"Connection failed:\", e)"
   ]
  },
  {
   "cell_type": "code",
   "execution_count": 16,
   "metadata": {},
   "outputs": [],
   "source": [
    "# Manually dropping foreign key constraints\n",
    "with engine2.connect() as connection:\n",
    "    connection.execute(text(\"SET FOREIGN_KEY_CHECKS = 0;\"))\n",
    "    connection.execute(text(\"DROP TABLE IF EXISTS flights;\"))\n",
    "    connection.execute(text(\"DROP TABLE IF EXISTS passengers;\"))\n",
    "    connection.execute(text(\"DROP TABLE IF EXISTS airports;\"))\n",
    "    connection.execute(text(\"SET FOREIGN_KEY_CHECKS = 1;\"))\n",
    "    connection.commit()"
   ]
  },
  {
   "cell_type": "code",
   "execution_count": 17,
   "metadata": {},
   "outputs": [
    {
     "data": {
      "text/plain": [
       "98612"
      ]
     },
     "execution_count": 17,
     "metadata": {},
     "output_type": "execute_result"
    }
   ],
   "source": [
    "# Storing the cleaned data into the database\n",
    "df_passengers.to_sql('passengers', con=engine2, if_exists='replace', index=False)\n",
    "df_airport.to_sql('airports', con=engine2, if_exists='replace', index=False)\n",
    "df_flights.to_sql('flights', con=engine2, if_exists='replace', index=False)"
   ]
  },
  {
   "cell_type": "markdown",
   "metadata": {},
   "source": [
    "#### Verify Data Upload"
   ]
  },
  {
   "cell_type": "code",
   "execution_count": 18,
   "metadata": {},
   "outputs": [
    {
     "name": "stdout",
     "output_type": "stream",
     "text": [
      "Passengers Table Rows: 98612\n",
      "Airports Table Rows: 98612\n",
      "Flights Table Rows: 98612\n"
     ]
    }
   ],
   "source": [
    "with engine2.connect() as connection:\n",
    "    result = connection.execute(text(\"SELECT COUNT(*) FROM passengers\"))\n",
    "    print(f\"Passengers Table Rows: {result.fetchone()[0]}\")\n",
    "\n",
    "    result = connection.execute(text(\"SELECT COUNT(*) FROM airports\"))\n",
    "    print(f\"Airports Table Rows: {result.fetchone()[0]}\")\n",
    "\n",
    "    result = connection.execute(text(\"SELECT COUNT(*) FROM flights\"))\n",
    "    print(f\"Flights Table Rows: {result.fetchone()[0]}\")"
   ]
  }
 ],
 "metadata": {
  "kernelspec": {
   "display_name": "Python 3",
   "language": "python",
   "name": "python3"
  },
  "language_info": {
   "codemirror_mode": {
    "name": "ipython",
    "version": 3
   },
   "file_extension": ".py",
   "mimetype": "text/x-python",
   "name": "python",
   "nbconvert_exporter": "python",
   "pygments_lexer": "ipython3",
   "version": "3.12.2"
  }
 },
 "nbformat": 4,
 "nbformat_minor": 2
}
